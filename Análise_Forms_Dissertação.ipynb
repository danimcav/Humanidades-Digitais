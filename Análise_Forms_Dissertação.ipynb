{
  "nbformat": 4,
  "nbformat_minor": 0,
  "metadata": {
    "colab": {
      "provenance": [],
      "authorship_tag": "ABX9TyN7Z8byrxZq1fu0ryDVQH90",
      "include_colab_link": true
    },
    "kernelspec": {
      "name": "python3",
      "display_name": "Python 3"
    },
    "language_info": {
      "name": "python"
    }
  },
  "cells": [
    {
      "cell_type": "markdown",
      "metadata": {
        "id": "view-in-github",
        "colab_type": "text"
      },
      "source": [
        "<a href=\"https://colab.research.google.com/github/danimcav/Humanidades-Digitais/blob/danimcav-patch-1/An%C3%A1lise_Forms_Disserta%C3%A7%C3%A3o.ipynb\" target=\"_parent\"><img src=\"https://colab.research.google.com/assets/colab-badge.svg\" alt=\"Open In Colab\"/></a>"
      ]
    },
    {
      "cell_type": "code",
      "execution_count": null,
      "metadata": {
        "id": "hsoFSTXDj5_x"
      },
      "outputs": [],
      "source": []
    },
    {
      "cell_type": "markdown",
      "metadata": {
        "id": "29ed34f1"
      },
      "source": [
        "# Task\n",
        "Analyze the data from the file \"Respostas Form Uso de IAGen na Personalização _do Ensino de Idiomas.xlsx\". For each quantitative response, generate an appropriate chart. For open-ended responses, perform a sentiment analysis."
      ]
    },
    {
      "cell_type": "markdown",
      "metadata": {
        "id": "d6915303"
      },
      "source": [
        "## Carregar os dados\n",
        "\n",
        "### Subtask:\n",
        "Carregar o arquivo \"Respostas Form Uso de IAGen na Personalização _do Ensino de Idiomas.xlsx\" em um DataFrame pandas.\n"
      ]
    },
    {
      "cell_type": "markdown",
      "metadata": {
        "id": "20bbb633"
      },
      "source": [
        "**Reasoning**:\n",
        "Import pandas and load the Excel file into a DataFrame.\n",
        "\n"
      ]
    },
    {
      "cell_type": "code",
      "metadata": {
        "id": "c615b963"
      },
      "source": [
        "import pandas as pd\n",
        "\n",
        "df = pd.read_excel('/content/Respostas Form Uso de IAGen na Personalização _do Ensino de Idiomas.xlsx')"
      ],
      "execution_count": 2,
      "outputs": []
    },
    {
      "cell_type": "markdown",
      "metadata": {
        "id": "3a18021b"
      },
      "source": [
        "## Explorar os dados\n",
        "\n",
        "### Subtask:\n",
        "Visualizar as primeiras linhas, os nomes das colunas e os tipos de dados para entender a estrutura do arquivo.\n"
      ]
    },
    {
      "cell_type": "markdown",
      "metadata": {
        "id": "4e0d75b1"
      },
      "source": [
        "**Reasoning**:\n",
        "Display the first 5 rows, column names, and data types of the DataFrame to understand its structure as requested.\n",
        "\n"
      ]
    },
    {
      "cell_type": "code",
      "metadata": {
        "colab": {
          "base_uri": "https://localhost:8080/",
          "height": 1000
        },
        "id": "1152d92f",
        "outputId": "c3479947-d813-4f2e-ca18-a01ab70c51e5"
      },
      "source": [
        "display(df.head())\n",
        "display(df.columns)\n",
        "display(df.dtypes)"
      ],
      "execution_count": 4,
      "outputs": [
        {
          "output_type": "display_data",
          "data": {
            "text/plain": [
              "   Id      Hora de início   Hora de conclusão      Email  Nome  \\\n",
              "0   9 2025-03-30 22:42:20 2025-03-30 22:56:47  anonymous   NaN   \n",
              "1  10 2025-10-11 22:27:34 2025-10-11 22:34:49  anonymous   NaN   \n",
              "2  11 2025-10-13 09:15:11 2025-10-13 09:25:05  anonymous   NaN   \n",
              "3  12 2025-10-13 09:25:19 2025-10-13 09:27:47  anonymous   NaN   \n",
              "4  13 2025-10-13 09:27:50 2025-10-13 09:29:26  anonymous   NaN   \n",
              "\n",
              "  Li e compreendi as informações apresentadas neste Termo de Consentimento Livre e Esclarecido e concordo em participar desta pesquisa de forma voluntária.  \\\n",
              "0                                           Concordo                                                                                                          \n",
              "1                                           Concordo                                                                                                          \n",
              "2                                           Concordo                                                                                                          \n",
              "3                                           Concordo                                                                                                          \n",
              "4                                           Concordo                                                                                                          \n",
              "\n",
              "   Qual a sua idade? Use apenas números Qual o seu sexo?  \\\n",
              "0                                    39         Feminino   \n",
              "1                                    33         Feminino   \n",
              "2                                    28        Masculino   \n",
              "3                                    35         Feminino   \n",
              "4                                    52        Masculino   \n",
              "\n",
              "  Qual sua língua materna? Qual o seu nível de escolaridade?  ...  \\\n",
              "0                Português                     Pós Graduação  ...   \n",
              "1                Português                     Pós Graduação  ...   \n",
              "2                Português                   Ensino superior  ...   \n",
              "3                 Espanhol                   Ensino superior  ...   \n",
              "4                Português                     Pós Graduação  ...   \n",
              "\n",
              "  Você teve alguma dificuldade em entender as explicações ou o feedback fornecido pelas ferramentas de IAGen?  \\\n",
              "0                                          xxxxxxxxx                                                            \n",
              "1                                                Não                                                            \n",
              "2  Quando o feedback é muito técnico ou usa termo...                                                            \n",
              "3                                                NaN                                                            \n",
              "4                                                NaN                                                            \n",
              "\n",
              "  Você percebeu algum viés (ex., cultural, de gênero, racial) nas respostas ou no conteúdo gerado pelas ferramentas de IAGen?  \\\n",
              "0                                                Não                                                                            \n",
              "1                                                Não                                                                            \n",
              "2  Já percebi viés cultural em exemplos de aprend...                                                                            \n",
              "3                                                NaN                                                                            \n",
              "4                                                NaN                                                                            \n",
              "\n",
              "  Você teve alguma preocupação com a privacidade dos seus dados ao utilizar ferramentas de IAGen?  \\\n",
              "0                                              xxxxx                                                \n",
              "1             Não confio em fornecer dados sensíveis                                                \n",
              "2  Tenho preocupações sobre privacidade, principa...                                                \n",
              "3                                                NaN                                                \n",
              "4                                                NaN                                                \n",
              "\n",
              "  Qual a importância do aprendizado personalizado para você?   \\\n",
              "0                                                5.0            \n",
              "1                                                5.0            \n",
              "2                                                NaN            \n",
              "3                                                5.0            \n",
              "4                                                5.0            \n",
              "\n",
              "   Como você avalia o nível de personalização do seu aprendizado de idiomas na The Language Company?  \\\n",
              "0                                                3.0                                                   \n",
              "1                                                5.0                                                   \n",
              "2                                                5.0                                                   \n",
              "3                                                5.0                                                   \n",
              "4                                                5.0                                                   \n",
              "\n",
              "  Quais aspectos do seu aprendizado de idiomas você gostaria que fossem mais personalizados?  \\\n",
              "0                                             xxxxxx                                           \n",
              "1  Gostaria que as atividades focassem nos meus p...                                           \n",
              "2  Gostaria de receber mais feedback específico s...                                           \n",
              "3  Gostaria que os exercícios fossem feitos para ...                                           \n",
              "4  Mais práticas de conversação que ajudem a perd...                                           \n",
              "\n",
              "  Você acha que o uso de ferramentas de IAGen aumentou ou diminuiu a sua autonomia no processo de aprendizado de idiomas?  \\\n",
              "0                                           Aumentou                                                                        \n",
              "1                                           Aumentou                                                                        \n",
              "2                                                NaN                                                                        \n",
              "3                                           Aumentou                                                                        \n",
              "4                                           Aumentou                                                                        \n",
              "\n",
              "  Você sentiu que o uso de ferramentas de IAGen substituiu ou complementou o papel do professor no processo de aprendizado?  \\\n",
              "0                                       Complementou                                                                          \n",
              "1                                       Complementou                                                                          \n",
              "2                                       Complementou                                                                          \n",
              "3                                       Complementou                                                                          \n",
              "4                                       Complementou                                                                          \n",
              "\n",
              "  Em geral, você acha que os benefícios do uso de ferramentas de IAGen no aprendizado de idiomas superam os desafios e preocupações?  \\\n",
              "0                                                Sim                                                                                   \n",
              "1                                                Sim                                                                                   \n",
              "2                                                Sim                                                                                   \n",
              "3                                                Sim                                                                                   \n",
              "4                                                Sim                                                                                   \n",
              "\n",
              "  Você gostaria de adicionar algum comentário ou sugestão sobre o uso de prompts e IAGen no aprendizado de idiomas?   \n",
              "0                                              xxxxx                                                                  \n",
              "1  Gostaria que os prompts me ajudassem a pratica...                                                                  \n",
              "2  Acho que os prompts e ferramentas de IA ajudam...                                                                  \n",
              "3  Acho importante que o sistema entenda os sotaq...                                                                  \n",
              "4  Queria que os feedbacks fossem claros, sem ter...                                                                  \n",
              "\n",
              "[5 rows x 37 columns]"
            ],
            "text/html": [
              "\n",
              "  <div id=\"df-9b7a600f-67ae-472e-8f2c-831ed040763f\" class=\"colab-df-container\">\n",
              "    <div>\n",
              "<style scoped>\n",
              "    .dataframe tbody tr th:only-of-type {\n",
              "        vertical-align: middle;\n",
              "    }\n",
              "\n",
              "    .dataframe tbody tr th {\n",
              "        vertical-align: top;\n",
              "    }\n",
              "\n",
              "    .dataframe thead th {\n",
              "        text-align: right;\n",
              "    }\n",
              "</style>\n",
              "<table border=\"1\" class=\"dataframe\">\n",
              "  <thead>\n",
              "    <tr style=\"text-align: right;\">\n",
              "      <th></th>\n",
              "      <th>Id</th>\n",
              "      <th>Hora de início</th>\n",
              "      <th>Hora de conclusão</th>\n",
              "      <th>Email</th>\n",
              "      <th>Nome</th>\n",
              "      <th>Li e compreendi as informações apresentadas neste Termo de Consentimento Livre e Esclarecido e concordo em participar desta pesquisa de forma voluntária.</th>\n",
              "      <th>Qual a sua idade? Use apenas números</th>\n",
              "      <th>Qual o seu sexo?</th>\n",
              "      <th>Qual sua língua materna?</th>\n",
              "      <th>Qual o seu nível de escolaridade?</th>\n",
              "      <th>...</th>\n",
              "      <th>Você teve alguma dificuldade em entender as explicações ou o feedback fornecido pelas ferramentas de IAGen?</th>\n",
              "      <th>Você percebeu algum viés (ex., cultural, de gênero, racial) nas respostas ou no conteúdo gerado pelas ferramentas de IAGen?</th>\n",
              "      <th>Você teve alguma preocupação com a privacidade dos seus dados ao utilizar ferramentas de IAGen?</th>\n",
              "      <th>Qual a importância do aprendizado personalizado para você?</th>\n",
              "      <th>Como você avalia o nível de personalização do seu aprendizado de idiomas na The Language Company?</th>\n",
              "      <th>Quais aspectos do seu aprendizado de idiomas você gostaria que fossem mais personalizados?</th>\n",
              "      <th>Você acha que o uso de ferramentas de IAGen aumentou ou diminuiu a sua autonomia no processo de aprendizado de idiomas?</th>\n",
              "      <th>Você sentiu que o uso de ferramentas de IAGen substituiu ou complementou o papel do professor no processo de aprendizado?</th>\n",
              "      <th>Em geral, você acha que os benefícios do uso de ferramentas de IAGen no aprendizado de idiomas superam os desafios e preocupações?</th>\n",
              "      <th>Você gostaria de adicionar algum comentário ou sugestão sobre o uso de prompts e IAGen no aprendizado de idiomas?</th>\n",
              "    </tr>\n",
              "  </thead>\n",
              "  <tbody>\n",
              "    <tr>\n",
              "      <th>0</th>\n",
              "      <td>9</td>\n",
              "      <td>2025-03-30 22:42:20</td>\n",
              "      <td>2025-03-30 22:56:47</td>\n",
              "      <td>anonymous</td>\n",
              "      <td>NaN</td>\n",
              "      <td>Concordo</td>\n",
              "      <td>39</td>\n",
              "      <td>Feminino</td>\n",
              "      <td>Português</td>\n",
              "      <td>Pós Graduação</td>\n",
              "      <td>...</td>\n",
              "      <td>xxxxxxxxx</td>\n",
              "      <td>Não</td>\n",
              "      <td>xxxxx</td>\n",
              "      <td>5.0</td>\n",
              "      <td>3.0</td>\n",
              "      <td>xxxxxx</td>\n",
              "      <td>Aumentou</td>\n",
              "      <td>Complementou</td>\n",
              "      <td>Sim</td>\n",
              "      <td>xxxxx</td>\n",
              "    </tr>\n",
              "    <tr>\n",
              "      <th>1</th>\n",
              "      <td>10</td>\n",
              "      <td>2025-10-11 22:27:34</td>\n",
              "      <td>2025-10-11 22:34:49</td>\n",
              "      <td>anonymous</td>\n",
              "      <td>NaN</td>\n",
              "      <td>Concordo</td>\n",
              "      <td>33</td>\n",
              "      <td>Feminino</td>\n",
              "      <td>Português</td>\n",
              "      <td>Pós Graduação</td>\n",
              "      <td>...</td>\n",
              "      <td>Não</td>\n",
              "      <td>Não</td>\n",
              "      <td>Não confio em fornecer dados sensíveis</td>\n",
              "      <td>5.0</td>\n",
              "      <td>5.0</td>\n",
              "      <td>Gostaria que as atividades focassem nos meus p...</td>\n",
              "      <td>Aumentou</td>\n",
              "      <td>Complementou</td>\n",
              "      <td>Sim</td>\n",
              "      <td>Gostaria que os prompts me ajudassem a pratica...</td>\n",
              "    </tr>\n",
              "    <tr>\n",
              "      <th>2</th>\n",
              "      <td>11</td>\n",
              "      <td>2025-10-13 09:15:11</td>\n",
              "      <td>2025-10-13 09:25:05</td>\n",
              "      <td>anonymous</td>\n",
              "      <td>NaN</td>\n",
              "      <td>Concordo</td>\n",
              "      <td>28</td>\n",
              "      <td>Masculino</td>\n",
              "      <td>Português</td>\n",
              "      <td>Ensino superior</td>\n",
              "      <td>...</td>\n",
              "      <td>Quando o feedback é muito técnico ou usa termo...</td>\n",
              "      <td>Já percebi viés cultural em exemplos de aprend...</td>\n",
              "      <td>Tenho preocupações sobre privacidade, principa...</td>\n",
              "      <td>NaN</td>\n",
              "      <td>5.0</td>\n",
              "      <td>Gostaria de receber mais feedback específico s...</td>\n",
              "      <td>NaN</td>\n",
              "      <td>Complementou</td>\n",
              "      <td>Sim</td>\n",
              "      <td>Acho que os prompts e ferramentas de IA ajudam...</td>\n",
              "    </tr>\n",
              "    <tr>\n",
              "      <th>3</th>\n",
              "      <td>12</td>\n",
              "      <td>2025-10-13 09:25:19</td>\n",
              "      <td>2025-10-13 09:27:47</td>\n",
              "      <td>anonymous</td>\n",
              "      <td>NaN</td>\n",
              "      <td>Concordo</td>\n",
              "      <td>35</td>\n",
              "      <td>Feminino</td>\n",
              "      <td>Espanhol</td>\n",
              "      <td>Ensino superior</td>\n",
              "      <td>...</td>\n",
              "      <td>NaN</td>\n",
              "      <td>NaN</td>\n",
              "      <td>NaN</td>\n",
              "      <td>5.0</td>\n",
              "      <td>5.0</td>\n",
              "      <td>Gostaria que os exercícios fossem feitos para ...</td>\n",
              "      <td>Aumentou</td>\n",
              "      <td>Complementou</td>\n",
              "      <td>Sim</td>\n",
              "      <td>Acho importante que o sistema entenda os sotaq...</td>\n",
              "    </tr>\n",
              "    <tr>\n",
              "      <th>4</th>\n",
              "      <td>13</td>\n",
              "      <td>2025-10-13 09:27:50</td>\n",
              "      <td>2025-10-13 09:29:26</td>\n",
              "      <td>anonymous</td>\n",
              "      <td>NaN</td>\n",
              "      <td>Concordo</td>\n",
              "      <td>52</td>\n",
              "      <td>Masculino</td>\n",
              "      <td>Português</td>\n",
              "      <td>Pós Graduação</td>\n",
              "      <td>...</td>\n",
              "      <td>NaN</td>\n",
              "      <td>NaN</td>\n",
              "      <td>NaN</td>\n",
              "      <td>5.0</td>\n",
              "      <td>5.0</td>\n",
              "      <td>Mais práticas de conversação que ajudem a perd...</td>\n",
              "      <td>Aumentou</td>\n",
              "      <td>Complementou</td>\n",
              "      <td>Sim</td>\n",
              "      <td>Queria que os feedbacks fossem claros, sem ter...</td>\n",
              "    </tr>\n",
              "  </tbody>\n",
              "</table>\n",
              "<p>5 rows × 37 columns</p>\n",
              "</div>\n",
              "    <div class=\"colab-df-buttons\">\n",
              "\n",
              "  <div class=\"colab-df-container\">\n",
              "    <button class=\"colab-df-convert\" onclick=\"convertToInteractive('df-9b7a600f-67ae-472e-8f2c-831ed040763f')\"\n",
              "            title=\"Convert this dataframe to an interactive table.\"\n",
              "            style=\"display:none;\">\n",
              "\n",
              "  <svg xmlns=\"http://www.w3.org/2000/svg\" height=\"24px\" viewBox=\"0 -960 960 960\">\n",
              "    <path d=\"M120-120v-720h720v720H120Zm60-500h600v-160H180v160Zm220 220h160v-160H400v160Zm0 220h160v-160H400v160ZM180-400h160v-160H180v160Zm440 0h160v-160H620v160ZM180-180h160v-160H180v160Zm440 0h160v-160H620v160Z\"/>\n",
              "  </svg>\n",
              "    </button>\n",
              "\n",
              "  <style>\n",
              "    .colab-df-container {\n",
              "      display:flex;\n",
              "      gap: 12px;\n",
              "    }\n",
              "\n",
              "    .colab-df-convert {\n",
              "      background-color: #E8F0FE;\n",
              "      border: none;\n",
              "      border-radius: 50%;\n",
              "      cursor: pointer;\n",
              "      display: none;\n",
              "      fill: #1967D2;\n",
              "      height: 32px;\n",
              "      padding: 0 0 0 0;\n",
              "      width: 32px;\n",
              "    }\n",
              "\n",
              "    .colab-df-convert:hover {\n",
              "      background-color: #E2EBFA;\n",
              "      box-shadow: 0px 1px 2px rgba(60, 64, 67, 0.3), 0px 1px 3px 1px rgba(60, 64, 67, 0.15);\n",
              "      fill: #174EA6;\n",
              "    }\n",
              "\n",
              "    .colab-df-buttons div {\n",
              "      margin-bottom: 4px;\n",
              "    }\n",
              "\n",
              "    [theme=dark] .colab-df-convert {\n",
              "      background-color: #3B4455;\n",
              "      fill: #D2E3FC;\n",
              "    }\n",
              "\n",
              "    [theme=dark] .colab-df-convert:hover {\n",
              "      background-color: #434B5C;\n",
              "      box-shadow: 0px 1px 3px 1px rgba(0, 0, 0, 0.15);\n",
              "      filter: drop-shadow(0px 1px 2px rgba(0, 0, 0, 0.3));\n",
              "      fill: #FFFFFF;\n",
              "    }\n",
              "  </style>\n",
              "\n",
              "    <script>\n",
              "      const buttonEl =\n",
              "        document.querySelector('#df-9b7a600f-67ae-472e-8f2c-831ed040763f button.colab-df-convert');\n",
              "      buttonEl.style.display =\n",
              "        google.colab.kernel.accessAllowed ? 'block' : 'none';\n",
              "\n",
              "      async function convertToInteractive(key) {\n",
              "        const element = document.querySelector('#df-9b7a600f-67ae-472e-8f2c-831ed040763f');\n",
              "        const dataTable =\n",
              "          await google.colab.kernel.invokeFunction('convertToInteractive',\n",
              "                                                    [key], {});\n",
              "        if (!dataTable) return;\n",
              "\n",
              "        const docLinkHtml = 'Like what you see? Visit the ' +\n",
              "          '<a target=\"_blank\" href=https://colab.research.google.com/notebooks/data_table.ipynb>data table notebook</a>'\n",
              "          + ' to learn more about interactive tables.';\n",
              "        element.innerHTML = '';\n",
              "        dataTable['output_type'] = 'display_data';\n",
              "        await google.colab.output.renderOutput(dataTable, element);\n",
              "        const docLink = document.createElement('div');\n",
              "        docLink.innerHTML = docLinkHtml;\n",
              "        element.appendChild(docLink);\n",
              "      }\n",
              "    </script>\n",
              "  </div>\n",
              "\n",
              "\n",
              "    <div id=\"df-6e22b8eb-debd-4ef3-8a47-4377e18e5a79\">\n",
              "      <button class=\"colab-df-quickchart\" onclick=\"quickchart('df-6e22b8eb-debd-4ef3-8a47-4377e18e5a79')\"\n",
              "                title=\"Suggest charts\"\n",
              "                style=\"display:none;\">\n",
              "\n",
              "<svg xmlns=\"http://www.w3.org/2000/svg\" height=\"24px\"viewBox=\"0 0 24 24\"\n",
              "     width=\"24px\">\n",
              "    <g>\n",
              "        <path d=\"M19 3H5c-1.1 0-2 .9-2 2v14c0 1.1.9 2 2 2h14c1.1 0 2-.9 2-2V5c0-1.1-.9-2-2-2zM9 17H7v-7h2v7zm4 0h-2V7h2v10zm4 0h-2v-4h2v4z\"/>\n",
              "    </g>\n",
              "</svg>\n",
              "      </button>\n",
              "\n",
              "<style>\n",
              "  .colab-df-quickchart {\n",
              "      --bg-color: #E8F0FE;\n",
              "      --fill-color: #1967D2;\n",
              "      --hover-bg-color: #E2EBFA;\n",
              "      --hover-fill-color: #174EA6;\n",
              "      --disabled-fill-color: #AAA;\n",
              "      --disabled-bg-color: #DDD;\n",
              "  }\n",
              "\n",
              "  [theme=dark] .colab-df-quickchart {\n",
              "      --bg-color: #3B4455;\n",
              "      --fill-color: #D2E3FC;\n",
              "      --hover-bg-color: #434B5C;\n",
              "      --hover-fill-color: #FFFFFF;\n",
              "      --disabled-bg-color: #3B4455;\n",
              "      --disabled-fill-color: #666;\n",
              "  }\n",
              "\n",
              "  .colab-df-quickchart {\n",
              "    background-color: var(--bg-color);\n",
              "    border: none;\n",
              "    border-radius: 50%;\n",
              "    cursor: pointer;\n",
              "    display: none;\n",
              "    fill: var(--fill-color);\n",
              "    height: 32px;\n",
              "    padding: 0;\n",
              "    width: 32px;\n",
              "  }\n",
              "\n",
              "  .colab-df-quickchart:hover {\n",
              "    background-color: var(--hover-bg-color);\n",
              "    box-shadow: 0 1px 2px rgba(60, 64, 67, 0.3), 0 1px 3px 1px rgba(60, 64, 67, 0.15);\n",
              "    fill: var(--button-hover-fill-color);\n",
              "  }\n",
              "\n",
              "  .colab-df-quickchart-complete:disabled,\n",
              "  .colab-df-quickchart-complete:disabled:hover {\n",
              "    background-color: var(--disabled-bg-color);\n",
              "    fill: var(--disabled-fill-color);\n",
              "    box-shadow: none;\n",
              "  }\n",
              "\n",
              "  .colab-df-spinner {\n",
              "    border: 2px solid var(--fill-color);\n",
              "    border-color: transparent;\n",
              "    border-bottom-color: var(--fill-color);\n",
              "    animation:\n",
              "      spin 1s steps(1) infinite;\n",
              "  }\n",
              "\n",
              "  @keyframes spin {\n",
              "    0% {\n",
              "      border-color: transparent;\n",
              "      border-bottom-color: var(--fill-color);\n",
              "      border-left-color: var(--fill-color);\n",
              "    }\n",
              "    20% {\n",
              "      border-color: transparent;\n",
              "      border-left-color: var(--fill-color);\n",
              "      border-top-color: var(--fill-color);\n",
              "    }\n",
              "    30% {\n",
              "      border-color: transparent;\n",
              "      border-left-color: var(--fill-color);\n",
              "      border-top-color: var(--fill-color);\n",
              "      border-right-color: var(--fill-color);\n",
              "    }\n",
              "    40% {\n",
              "      border-color: transparent;\n",
              "      border-right-color: var(--fill-color);\n",
              "      border-top-color: var(--fill-color);\n",
              "    }\n",
              "    60% {\n",
              "      border-color: transparent;\n",
              "      border-right-color: var(--fill-color);\n",
              "    }\n",
              "    80% {\n",
              "      border-color: transparent;\n",
              "      border-right-color: var(--fill-color);\n",
              "      border-bottom-color: var(--fill-color);\n",
              "    }\n",
              "    90% {\n",
              "      border-color: transparent;\n",
              "      border-bottom-color: var(--fill-color);\n",
              "    }\n",
              "  }\n",
              "</style>\n",
              "\n",
              "      <script>\n",
              "        async function quickchart(key) {\n",
              "          const quickchartButtonEl =\n",
              "            document.querySelector('#' + key + ' button');\n",
              "          quickchartButtonEl.disabled = true;  // To prevent multiple clicks.\n",
              "          quickchartButtonEl.classList.add('colab-df-spinner');\n",
              "          try {\n",
              "            const charts = await google.colab.kernel.invokeFunction(\n",
              "                'suggestCharts', [key], {});\n",
              "          } catch (error) {\n",
              "            console.error('Error during call to suggestCharts:', error);\n",
              "          }\n",
              "          quickchartButtonEl.classList.remove('colab-df-spinner');\n",
              "          quickchartButtonEl.classList.add('colab-df-quickchart-complete');\n",
              "        }\n",
              "        (() => {\n",
              "          let quickchartButtonEl =\n",
              "            document.querySelector('#df-6e22b8eb-debd-4ef3-8a47-4377e18e5a79 button');\n",
              "          quickchartButtonEl.style.display =\n",
              "            google.colab.kernel.accessAllowed ? 'block' : 'none';\n",
              "        })();\n",
              "      </script>\n",
              "    </div>\n",
              "\n",
              "    </div>\n",
              "  </div>\n"
            ],
            "application/vnd.google.colaboratory.intrinsic+json": {
              "type": "dataframe"
            }
          },
          "metadata": {}
        },
        {
          "output_type": "display_data",
          "data": {
            "text/plain": [
              "Index(['Id', 'Hora de início', 'Hora de conclusão', 'Email', 'Nome',\n",
              "       'Li e compreendi as informações apresentadas neste Termo de Consentimento Livre e Esclarecido e concordo em participar desta pesquisa de forma voluntária.',\n",
              "       'Qual a sua idade? Use apenas números', 'Qual o seu sexo?',\n",
              "       'Qual sua língua materna?', 'Qual o seu nível de escolaridade?',\n",
              "       'Você já tinha utilizado ferramentas de Inteligência Artificial Generativa (IAGen) para aprender idiomas?',\n",
              "       'Quais ferramentas de IAGen você já utilizou para aprender idiomas? (Marque todas as opções que se aplicam)',\n",
              "       'Você já tinha utilizado prompts (comandos de texto) para personalizar o conteúdo ou a interação com ferramentas de IAGen no aprendizado de idiomas?',\n",
              "       'Com que frequência você utiliza prompts para personalizar o aprendizado com IAGen?',\n",
              "       'Qual o seu nível de satisfação com o uso de prompts para personalizar o aprendizado com IAGen? ',\n",
              "       'Você acha que o uso de prompts te ajudou a atingir seus objetivos de aprendizado de idiomas?',\n",
              "       'Como você classificaria a eficácia dos prompts em relação à sua experiência de aprendizado neste curso?',\n",
              "       'Você utilizou comandos de voz ou interações faladas para realizar os exercícios com ferramentas de IAGen?',\n",
              "       'Se respondeu \"Sim\", como você avalia a experiência de usar voz para realizar os exercícios?',\n",
              "       'Você encontrou alguma dificuldade ao utilizar comandos de voz ou interações faladas?',\n",
              "       'Você concorda com as seguintes afirmações sobre o uso de prompts para personalizar o aprendizado com IAGen?.Os prompts me ajudaram a obter um conhecimento mais profundo sobre o idioma',\n",
              "       'Você concorda com as seguintes afirmações sobre o uso de prompts para personalizar o aprendizado com IAGen?.Os prompts tornaram o aprendizado mais interessante e envolvente',\n",
              "       'Você concorda com as seguintes afirmações sobre o uso de prompts para personalizar o aprendizado com IAGen?.Os prompts me permitiram praticar o idioma de forma mais personalizada',\n",
              "       'Qual a probabilidade de você continuar utilizando prompts para personalizar o aprendizado com IAGen no futuro?',\n",
              "       'Que tipo de prompts você considera mais útil para o aprendizado de idiomas? ',\n",
              "       'Você encontrou alguma dificuldade técnica ao utilizar ferramentas de IAGen para aprender idiomas?',\n",
              "       'Você sentiu que alguma ferramenta de IAGen forneceu informações imprecisas ou enganosas?',\n",
              "       'Você teve alguma dificuldade em entender as explicações ou o feedback fornecido pelas ferramentas de IAGen?',\n",
              "       'Você percebeu algum viés (ex., cultural, de gênero, racial) nas respostas ou no conteúdo gerado pelas ferramentas de IAGen?',\n",
              "       'Você teve alguma preocupação com a privacidade dos seus dados ao utilizar ferramentas de IAGen?',\n",
              "       'Qual a importância do aprendizado personalizado para você? ',\n",
              "       'Como você avalia o nível de personalização do seu aprendizado de idiomas na The Language Company?',\n",
              "       'Quais aspectos do seu aprendizado de idiomas você gostaria que fossem mais personalizados?',\n",
              "       'Você acha que o uso de ferramentas de IAGen aumentou ou diminuiu a sua autonomia no processo de aprendizado de idiomas?',\n",
              "       'Você sentiu que o uso de ferramentas de IAGen substituiu ou complementou o papel do professor no processo de aprendizado?',\n",
              "       'Em geral, você acha que os benefícios do uso de ferramentas de IAGen no aprendizado de idiomas superam os desafios e preocupações?',\n",
              "       'Você gostaria de adicionar algum comentário ou sugestão sobre o uso de prompts e IAGen no aprendizado de idiomas? '],\n",
              "      dtype='object')"
            ]
          },
          "metadata": {}
        },
        {
          "output_type": "display_data",
          "data": {
            "text/plain": [
              "Id                                                                                                                                                                                                  int64\n",
              "Hora de início                                                                                                                                                                             datetime64[ns]\n",
              "Hora de conclusão                                                                                                                                                                          datetime64[ns]\n",
              "Email                                                                                                                                                                                              object\n",
              "Nome                                                                                                                                                                                              float64\n",
              "Li e compreendi as informações apresentadas neste Termo de Consentimento Livre e Esclarecido e concordo em participar desta pesquisa de forma voluntária.                                          object\n",
              "Qual a sua idade? Use apenas números                                                                                                                                                                int64\n",
              "Qual o seu sexo?                                                                                                                                                                                   object\n",
              "Qual sua língua materna?                                                                                                                                                                           object\n",
              "Qual o seu nível de escolaridade?                                                                                                                                                                  object\n",
              "Você já tinha utilizado ferramentas de Inteligência Artificial Generativa (IAGen) para aprender idiomas?                                                                                           object\n",
              "Quais ferramentas de IAGen você já utilizou para aprender idiomas? (Marque todas as opções que se aplicam)                                                                                         object\n",
              "Você já tinha utilizado prompts (comandos de texto) para personalizar o conteúdo ou a interação com ferramentas de IAGen no aprendizado de idiomas?                                                object\n",
              "Com que frequência você utiliza prompts para personalizar o aprendizado com IAGen?                                                                                                                 object\n",
              "Qual o seu nível de satisfação com o uso de prompts para personalizar o aprendizado com IAGen?                                                                                                    float64\n",
              "Você acha que o uso de prompts te ajudou a atingir seus objetivos de aprendizado de idiomas?                                                                                                       object\n",
              "Como você classificaria a eficácia dos prompts em relação à sua experiência de aprendizado neste curso?                                                                                            object\n",
              "Você utilizou comandos de voz ou interações faladas para realizar os exercícios com ferramentas de IAGen?                                                                                          object\n",
              "Se respondeu \"Sim\", como você avalia a experiência de usar voz para realizar os exercícios?                                                                                                        object\n",
              "Você encontrou alguma dificuldade ao utilizar comandos de voz ou interações faladas?                                                                                                               object\n",
              "Você concorda com as seguintes afirmações sobre o uso de prompts para personalizar o aprendizado com IAGen?.Os prompts me ajudaram a obter um conhecimento mais profundo sobre o idioma            object\n",
              "Você concorda com as seguintes afirmações sobre o uso de prompts para personalizar o aprendizado com IAGen?.Os prompts tornaram o aprendizado mais interessante e envolvente                       object\n",
              "Você concorda com as seguintes afirmações sobre o uso de prompts para personalizar o aprendizado com IAGen?.Os prompts me permitiram praticar o idioma de forma mais personalizada                 object\n",
              "Qual a probabilidade de você continuar utilizando prompts para personalizar o aprendizado com IAGen no futuro?                                                                                     object\n",
              "Que tipo de prompts você considera mais útil para o aprendizado de idiomas?                                                                                                                        object\n",
              "Você encontrou alguma dificuldade técnica ao utilizar ferramentas de IAGen para aprender idiomas?                                                                                                  object\n",
              "Você sentiu que alguma ferramenta de IAGen forneceu informações imprecisas ou enganosas?                                                                                                           object\n",
              "Você teve alguma dificuldade em entender as explicações ou o feedback fornecido pelas ferramentas de IAGen?                                                                                        object\n",
              "Você percebeu algum viés (ex., cultural, de gênero, racial) nas respostas ou no conteúdo gerado pelas ferramentas de IAGen?                                                                        object\n",
              "Você teve alguma preocupação com a privacidade dos seus dados ao utilizar ferramentas de IAGen?                                                                                                    object\n",
              "Qual a importância do aprendizado personalizado para você?                                                                                                                                        float64\n",
              "Como você avalia o nível de personalização do seu aprendizado de idiomas na The Language Company?                                                                                                 float64\n",
              "Quais aspectos do seu aprendizado de idiomas você gostaria que fossem mais personalizados?                                                                                                         object\n",
              "Você acha que o uso de ferramentas de IAGen aumentou ou diminuiu a sua autonomia no processo de aprendizado de idiomas?                                                                            object\n",
              "Você sentiu que o uso de ferramentas de IAGen substituiu ou complementou o papel do professor no processo de aprendizado?                                                                          object\n",
              "Em geral, você acha que os benefícios do uso de ferramentas de IAGen no aprendizado de idiomas superam os desafios e preocupações?                                                                 object\n",
              "Você gostaria de adicionar algum comentário ou sugestão sobre o uso de prompts e IAGen no aprendizado de idiomas?                                                                                  object\n",
              "dtype: object"
            ],
            "text/html": [
              "<div>\n",
              "<style scoped>\n",
              "    .dataframe tbody tr th:only-of-type {\n",
              "        vertical-align: middle;\n",
              "    }\n",
              "\n",
              "    .dataframe tbody tr th {\n",
              "        vertical-align: top;\n",
              "    }\n",
              "\n",
              "    .dataframe thead th {\n",
              "        text-align: right;\n",
              "    }\n",
              "</style>\n",
              "<table border=\"1\" class=\"dataframe\">\n",
              "  <thead>\n",
              "    <tr style=\"text-align: right;\">\n",
              "      <th></th>\n",
              "      <th>0</th>\n",
              "    </tr>\n",
              "  </thead>\n",
              "  <tbody>\n",
              "    <tr>\n",
              "      <th>Id</th>\n",
              "      <td>int64</td>\n",
              "    </tr>\n",
              "    <tr>\n",
              "      <th>Hora de início</th>\n",
              "      <td>datetime64[ns]</td>\n",
              "    </tr>\n",
              "    <tr>\n",
              "      <th>Hora de conclusão</th>\n",
              "      <td>datetime64[ns]</td>\n",
              "    </tr>\n",
              "    <tr>\n",
              "      <th>Email</th>\n",
              "      <td>object</td>\n",
              "    </tr>\n",
              "    <tr>\n",
              "      <th>Nome</th>\n",
              "      <td>float64</td>\n",
              "    </tr>\n",
              "    <tr>\n",
              "      <th>Li e compreendi as informações apresentadas neste Termo de Consentimento Livre e Esclarecido e concordo em participar desta pesquisa de forma voluntária.</th>\n",
              "      <td>object</td>\n",
              "    </tr>\n",
              "    <tr>\n",
              "      <th>Qual a sua idade? Use apenas números</th>\n",
              "      <td>int64</td>\n",
              "    </tr>\n",
              "    <tr>\n",
              "      <th>Qual o seu sexo?</th>\n",
              "      <td>object</td>\n",
              "    </tr>\n",
              "    <tr>\n",
              "      <th>Qual sua língua materna?</th>\n",
              "      <td>object</td>\n",
              "    </tr>\n",
              "    <tr>\n",
              "      <th>Qual o seu nível de escolaridade?</th>\n",
              "      <td>object</td>\n",
              "    </tr>\n",
              "    <tr>\n",
              "      <th>Você já tinha utilizado ferramentas de Inteligência Artificial Generativa (IAGen) para aprender idiomas?</th>\n",
              "      <td>object</td>\n",
              "    </tr>\n",
              "    <tr>\n",
              "      <th>Quais ferramentas de IAGen você já utilizou para aprender idiomas? (Marque todas as opções que se aplicam)</th>\n",
              "      <td>object</td>\n",
              "    </tr>\n",
              "    <tr>\n",
              "      <th>Você já tinha utilizado prompts (comandos de texto) para personalizar o conteúdo ou a interação com ferramentas de IAGen no aprendizado de idiomas?</th>\n",
              "      <td>object</td>\n",
              "    </tr>\n",
              "    <tr>\n",
              "      <th>Com que frequência você utiliza prompts para personalizar o aprendizado com IAGen?</th>\n",
              "      <td>object</td>\n",
              "    </tr>\n",
              "    <tr>\n",
              "      <th>Qual o seu nível de satisfação com o uso de prompts para personalizar o aprendizado com IAGen?</th>\n",
              "      <td>float64</td>\n",
              "    </tr>\n",
              "    <tr>\n",
              "      <th>Você acha que o uso de prompts te ajudou a atingir seus objetivos de aprendizado de idiomas?</th>\n",
              "      <td>object</td>\n",
              "    </tr>\n",
              "    <tr>\n",
              "      <th>Como você classificaria a eficácia dos prompts em relação à sua experiência de aprendizado neste curso?</th>\n",
              "      <td>object</td>\n",
              "    </tr>\n",
              "    <tr>\n",
              "      <th>Você utilizou comandos de voz ou interações faladas para realizar os exercícios com ferramentas de IAGen?</th>\n",
              "      <td>object</td>\n",
              "    </tr>\n",
              "    <tr>\n",
              "      <th>Se respondeu \"Sim\", como você avalia a experiência de usar voz para realizar os exercícios?</th>\n",
              "      <td>object</td>\n",
              "    </tr>\n",
              "    <tr>\n",
              "      <th>Você encontrou alguma dificuldade ao utilizar comandos de voz ou interações faladas?</th>\n",
              "      <td>object</td>\n",
              "    </tr>\n",
              "    <tr>\n",
              "      <th>Você concorda com as seguintes afirmações sobre o uso de prompts para personalizar o aprendizado com IAGen?.Os prompts me ajudaram a obter um conhecimento mais profundo sobre o idioma</th>\n",
              "      <td>object</td>\n",
              "    </tr>\n",
              "    <tr>\n",
              "      <th>Você concorda com as seguintes afirmações sobre o uso de prompts para personalizar o aprendizado com IAGen?.Os prompts tornaram o aprendizado mais interessante e envolvente</th>\n",
              "      <td>object</td>\n",
              "    </tr>\n",
              "    <tr>\n",
              "      <th>Você concorda com as seguintes afirmações sobre o uso de prompts para personalizar o aprendizado com IAGen?.Os prompts me permitiram praticar o idioma de forma mais personalizada</th>\n",
              "      <td>object</td>\n",
              "    </tr>\n",
              "    <tr>\n",
              "      <th>Qual a probabilidade de você continuar utilizando prompts para personalizar o aprendizado com IAGen no futuro?</th>\n",
              "      <td>object</td>\n",
              "    </tr>\n",
              "    <tr>\n",
              "      <th>Que tipo de prompts você considera mais útil para o aprendizado de idiomas?</th>\n",
              "      <td>object</td>\n",
              "    </tr>\n",
              "    <tr>\n",
              "      <th>Você encontrou alguma dificuldade técnica ao utilizar ferramentas de IAGen para aprender idiomas?</th>\n",
              "      <td>object</td>\n",
              "    </tr>\n",
              "    <tr>\n",
              "      <th>Você sentiu que alguma ferramenta de IAGen forneceu informações imprecisas ou enganosas?</th>\n",
              "      <td>object</td>\n",
              "    </tr>\n",
              "    <tr>\n",
              "      <th>Você teve alguma dificuldade em entender as explicações ou o feedback fornecido pelas ferramentas de IAGen?</th>\n",
              "      <td>object</td>\n",
              "    </tr>\n",
              "    <tr>\n",
              "      <th>Você percebeu algum viés (ex., cultural, de gênero, racial) nas respostas ou no conteúdo gerado pelas ferramentas de IAGen?</th>\n",
              "      <td>object</td>\n",
              "    </tr>\n",
              "    <tr>\n",
              "      <th>Você teve alguma preocupação com a privacidade dos seus dados ao utilizar ferramentas de IAGen?</th>\n",
              "      <td>object</td>\n",
              "    </tr>\n",
              "    <tr>\n",
              "      <th>Qual a importância do aprendizado personalizado para você?</th>\n",
              "      <td>float64</td>\n",
              "    </tr>\n",
              "    <tr>\n",
              "      <th>Como você avalia o nível de personalização do seu aprendizado de idiomas na The Language Company?</th>\n",
              "      <td>float64</td>\n",
              "    </tr>\n",
              "    <tr>\n",
              "      <th>Quais aspectos do seu aprendizado de idiomas você gostaria que fossem mais personalizados?</th>\n",
              "      <td>object</td>\n",
              "    </tr>\n",
              "    <tr>\n",
              "      <th>Você acha que o uso de ferramentas de IAGen aumentou ou diminuiu a sua autonomia no processo de aprendizado de idiomas?</th>\n",
              "      <td>object</td>\n",
              "    </tr>\n",
              "    <tr>\n",
              "      <th>Você sentiu que o uso de ferramentas de IAGen substituiu ou complementou o papel do professor no processo de aprendizado?</th>\n",
              "      <td>object</td>\n",
              "    </tr>\n",
              "    <tr>\n",
              "      <th>Em geral, você acha que os benefícios do uso de ferramentas de IAGen no aprendizado de idiomas superam os desafios e preocupações?</th>\n",
              "      <td>object</td>\n",
              "    </tr>\n",
              "    <tr>\n",
              "      <th>Você gostaria de adicionar algum comentário ou sugestão sobre o uso de prompts e IAGen no aprendizado de idiomas?</th>\n",
              "      <td>object</td>\n",
              "    </tr>\n",
              "  </tbody>\n",
              "</table>\n",
              "</div><br><label><b>dtype:</b> object</label>"
            ]
          },
          "metadata": {}
        }
      ]
    },
    {
      "cell_type": "markdown",
      "metadata": {
        "id": "12a1695f"
      },
      "source": [
        "## Identificar tipos de resposta\n",
        "\n",
        "### Subtask:\n",
        "Separar as colunas que contêm respostas quantitativas daquelas com respostas qualitativas (abertas).\n"
      ]
    },
    {
      "cell_type": "markdown",
      "metadata": {
        "id": "2de4b1ed"
      },
      "source": [
        "**Reasoning**:\n",
        "Examine the column names and data types to identify quantitative and qualitative columns.\n",
        "\n"
      ]
    },
    {
      "cell_type": "code",
      "metadata": {
        "colab": {
          "base_uri": "https://localhost:8080/"
        },
        "id": "0332bcab",
        "outputId": "e31e1e3b-43c4-4fda-d278-260273e4a81f"
      },
      "source": [
        "quantitative_columns = []\n",
        "qualitative_columns = []\n",
        "\n",
        "for col in df.columns:\n",
        "    if df[col].dtype in ['int64', 'float64']:\n",
        "        # Check if the column is truly quantitative or just coded as numerical\n",
        "        # based on the column names and a sample of values.\n",
        "        if col not in ['Id']: # 'Id' is an identifier, not a quantitative response\n",
        "             quantitative_columns.append(col)\n",
        "    elif df[col].dtype == 'object':\n",
        "        # Assuming object type columns are qualitative/open-ended unless they contain categorical data\n",
        "        # We'll need to inspect further if needed, but for this step, we'll consider all object columns as qualitative\n",
        "        qualitative_columns.append(col)\n",
        "\n",
        "print(\"Quantitative Columns:\", quantitative_columns)\n",
        "print(\"Qualitative Columns:\", qualitative_columns)"
      ],
      "execution_count": 5,
      "outputs": [
        {
          "output_type": "stream",
          "name": "stdout",
          "text": [
            "Quantitative Columns: ['Nome', 'Qual a sua idade? Use apenas números', 'Qual o seu nível de satisfação com o uso de prompts para personalizar o aprendizado com IAGen?\\xa0', 'Qual a importância do aprendizado personalizado para você? ', 'Como você avalia o nível de personalização do seu aprendizado de idiomas na The Language Company?']\n",
            "Qualitative Columns: ['Email', 'Li e compreendi as informações apresentadas neste Termo de Consentimento Livre e Esclarecido e concordo em participar desta pesquisa de forma voluntária.', 'Qual o seu sexo?', 'Qual sua língua materna?', 'Qual o seu nível de escolaridade?', 'Você já tinha utilizado ferramentas de Inteligência Artificial Generativa (IAGen) para aprender idiomas?', 'Quais ferramentas de IAGen você já utilizou para aprender idiomas? (Marque todas as opções que se aplicam)', 'Você já tinha utilizado prompts (comandos de texto) para personalizar o conteúdo ou a interação com ferramentas de IAGen no aprendizado de idiomas?', 'Com que frequência você utiliza prompts para personalizar o aprendizado com IAGen?', 'Você acha que o uso de prompts te ajudou a atingir seus objetivos de aprendizado de idiomas?', 'Como você classificaria a eficácia dos prompts em relação à sua experiência de aprendizado neste curso?', 'Você utilizou comandos de voz ou interações faladas para realizar os exercícios com ferramentas de IAGen?', 'Se respondeu \"Sim\", como você avalia a experiência de usar voz para realizar os exercícios?', 'Você encontrou alguma dificuldade ao utilizar comandos de voz ou interações faladas?', 'Você concorda com as seguintes afirmações sobre o uso de prompts para personalizar o aprendizado com IAGen?.Os prompts me ajudaram a obter um conhecimento mais profundo sobre o idioma', 'Você concorda com as seguintes afirmações sobre o uso de prompts para personalizar o aprendizado com IAGen?.Os prompts tornaram o aprendizado mais interessante e envolvente', 'Você concorda com as seguintes afirmações sobre o uso de prompts para personalizar o aprendizado com IAGen?.Os prompts me permitiram praticar o idioma de forma mais personalizada', 'Qual a probabilidade de você continuar utilizando prompts para personalizar o aprendizado com IAGen no futuro?', 'Que tipo de prompts você considera mais útil para o aprendizado de idiomas? ', 'Você encontrou alguma dificuldade técnica ao utilizar ferramentas de IAGen para aprender idiomas?', 'Você sentiu que alguma ferramenta de IAGen forneceu informações imprecisas ou enganosas?', 'Você teve alguma dificuldade em entender as explicações ou o feedback fornecido pelas ferramentas de IAGen?', 'Você percebeu algum viés (ex., cultural, de gênero, racial) nas respostas ou no conteúdo gerado pelas ferramentas de IAGen?', 'Você teve alguma preocupação com a privacidade dos seus dados ao utilizar ferramentas de IAGen?', 'Quais aspectos do seu aprendizado de idiomas você gostaria que fossem mais personalizados?', 'Você acha que o uso de ferramentas de IAGen aumentou ou diminuiu a sua autonomia no processo de aprendizado de idiomas?', 'Você sentiu que o uso de ferramentas de IAGen substituiu ou complementou o papel do professor no processo de aprendizado?', 'Em geral, você acha que os benefícios do uso de ferramentas de IAGen no aprendizado de idiomas superam os desafios e preocupações?', 'Você gostaria de adicionar algum comentário ou sugestão sobre o uso de prompts e IAGen no aprendizado de idiomas?\\xa0']\n"
          ]
        }
      ]
    },
    {
      "cell_type": "markdown",
      "metadata": {
        "id": "4fad20f8"
      },
      "source": [
        "## Analisar e visualizar respostas quantitativas\n",
        "\n",
        "### Subtask:\n",
        "Para cada coluna quantitativa, determinar o tipo de gráfico mais adequado (por exemplo, barras, pizza, histograma) e gerar o gráfico correspondente.\n"
      ]
    },
    {
      "cell_type": "markdown",
      "metadata": {
        "id": "07d1b0c0"
      },
      "source": [
        "**Reasoning**:\n",
        "Iterate through the quantitative columns and generate appropriate plots for each, treating Likert scale questions as categorical data for bar plots.\n",
        "\n"
      ]
    },
    {
      "cell_type": "code",
      "metadata": {
        "colab": {
          "base_uri": "https://localhost:8080/",
          "height": 1000
        },
        "id": "eaba1562",
        "outputId": "e088f61f-c129-4943-baca-971f3565dab6"
      },
      "source": [
        "import matplotlib.pyplot as plt\n",
        "import seaborn as sns\n",
        "\n",
        "quantitative_columns = ['Qual a sua idade? Use apenas números',\n",
        "                        'Qual o seu nível de satisfação com o uso de prompts para personalizar o aprendizado com IAGen?\\xa0',\n",
        "                        'Qual a importância do aprendizado personalizado para você? ',\n",
        "                        'Como você avalia o nível de personalização do seu aprendizado de idiomas na The Language Company?']\n",
        "\n",
        "# Adjust figure size for better readability\n",
        "plt.rcParams['figure.figsize'] = [10, 6]\n",
        "\n",
        "for col in quantitative_columns:\n",
        "    plt.figure() # Create a new figure for each plot\n",
        "    if col == 'Qual a sua idade? Use apenas números':\n",
        "        # Age is truly quantitative, use a histogram\n",
        "        sns.histplot(data=df, x=col, kde=True)\n",
        "        plt.title(f'Distribuição de {col}')\n",
        "        plt.xlabel('Idade')\n",
        "        plt.ylabel('Frequência')\n",
        "    else:\n",
        "        # Likert scale questions treated as categorical, use a bar plot\n",
        "        # Count the occurrences of each response\n",
        "        value_counts = df[col].value_counts().sort_index()\n",
        "        sns.barplot(x=value_counts.index, y=value_counts.values)\n",
        "        plt.title(f'Distribuição de Respostas para: {col}')\n",
        "        plt.xlabel('Nível')\n",
        "        plt.ylabel('Frequência')\n",
        "    plt.tight_layout()\n",
        "    plt.show()"
      ],
      "execution_count": 6,
      "outputs": [
        {
          "output_type": "display_data",
          "data": {
            "text/plain": [
              "<Figure size 1000x600 with 1 Axes>"
            ],
            "image/png": "[encoded data removed]"
          },
          "metadata": {}
        },
        {
          "output_type": "display_data",
          "data": {
            "text/plain": [
              "<Figure size 1000x600 with 1 Axes>"
            ],
            "image/png": "[encoded data removed]"
          },
          "metadata": {}
        },
        {
          "output_type": "display_data",
          "data": {
            "text/plain": [
              "<Figure size 1000x600 with 1 Axes>"
            ],
            "image/png": "[encoded data removed]"
          },
          "metadata": {}
        },
        {
          "output_type": "display_data",
          "data": {
            "text/plain": [
              "<Figure size 1000x600 with 1 Axes>"
            ],
            "image/png": "[encoded data removed]"
          },
          "metadata": {}
        }
      ]
    },
    {
      "cell_type": "markdown",
      "metadata": {
        "id": "cb9afa2f"
      },
      "source": [
        "## Analisar respostas qualitativas\n",
        "\n",
        "### Subtask:\n",
        "Realizar análise de sentimentos nas colunas com respostas abertas. Isso pode envolver a instalação de bibliotecas de processamento de linguagem natural e a aplicação de um modelo de análise de sentimento.\n"
      ]
    },
    {
      "cell_type": "markdown",
      "metadata": {
        "id": "869f38ae"
      },
      "source": [
        "**Reasoning**:\n",
        "Identify the open-ended response columns, remove missing values, perform sentiment analysis using vaderSentiment, store the results, and summarize the sentiment scores.\n",
        "\n"
      ]
    },
    {
      "cell_type": "code",
      "metadata": {
        "colab": {
          "base_uri": "https://localhost:8080/",
          "height": 790
        },
        "id": "63e2d1ec",
        "outputId": "a01b3457-0c7c-4546-eacd-fd2fc11dde5a"
      },
      "source": [
        "import nltk\n",
        "try:\n",
        "    nltk.data.find('sentiment/vader_lexicon.zip')\n",
        "except nltk.downloader.DownloadError:\n",
        "    nltk.download('vader_lexicon')\n",
        "from vaderSentiment.vaderSentiment import SentimentIntensityAnalyzer\n",
        "\n",
        "qualitative_columns = ['Quais aspectos do seu aprendizado de idiomas você gostaria que fossem mais personalizados?',\n",
        "                       'Você gostaria de adicionar algum comentário ou sugestão sobre o uso de prompts e IAGen no aprendizado de idiomas?\\xa0']\n",
        "\n",
        "analyzer = SentimentIntensityAnalyzer()\n",
        "sentiment_results = {}\n",
        "\n",
        "for col in qualitative_columns:\n",
        "    # Remove missing values\n",
        "    responses = df[col].dropna().tolist()\n",
        "    column_sentiments = []\n",
        "    for response in responses:\n",
        "        vs = analyzer.polarity_scores(response)\n",
        "        column_sentiments.append(vs)\n",
        "    sentiment_results[col] = column_sentiments\n",
        "\n",
        "# Summarize sentiment scores\n",
        "for col, sentiments in sentiment_results.items():\n",
        "    if sentiments:\n",
        "        compound_scores = [s['compound'] for s in sentiments]\n",
        "        mean_compound = sum(compound_scores) / len(compound_scores)\n",
        "        print(f\"Sentiment analysis summary for '{col}':\")\n",
        "        print(f\"  Mean compound score: {mean_compound:.2f}\")\n",
        "        # You can add more summary statistics here, like distribution of positive, negative, neutral\n",
        "    else:\n",
        "        print(f\"No valid responses for sentiment analysis in '{col}'\")\n"
      ],
      "execution_count": 7,
      "outputs": [
        {
          "output_type": "error",
          "ename": "AttributeError",
          "evalue": "module 'nltk.downloader' has no attribute 'DownloadError'",
          "traceback": [
            "\u001b[0;31m---------------------------------------------------------------------------\u001b[0m",
            "\u001b[0;31mLookupError\u001b[0m                               Traceback (most recent call last)",
            "\u001b[0;32m/tmp/ipython-input-1747435890.py\u001b[0m in \u001b[0;36m<cell line: 0>\u001b[0;34m()\u001b[0m\n\u001b[1;32m      2\u001b[0m \u001b[0;32mtry\u001b[0m\u001b[0;34m:\u001b[0m\u001b[0;34m\u001b[0m\u001b[0;34m\u001b[0m\u001b[0m\n\u001b[0;32m----> 3\u001b[0;31m     \u001b[0mnltk\u001b[0m\u001b[0;34m.\u001b[0m\u001b[0mdata\u001b[0m\u001b[0;34m.\u001b[0m\u001b[0mfind\u001b[0m\u001b[0;34m(\u001b[0m\u001b[0;34m'sentiment/vader_lexicon.zip'\u001b[0m\u001b[0;34m)\u001b[0m\u001b[0;34m\u001b[0m\u001b[0;34m\u001b[0m\u001b[0m\n\u001b[0m\u001b[1;32m      4\u001b[0m \u001b[0;32mexcept\u001b[0m \u001b[0mnltk\u001b[0m\u001b[0;34m.\u001b[0m\u001b[0mdownloader\u001b[0m\u001b[0;34m.\u001b[0m\u001b[0mDownloadError\u001b[0m\u001b[0;34m:\u001b[0m\u001b[0;34m\u001b[0m\u001b[0;34m\u001b[0m\u001b[0m\n",
            "\u001b[0;32m/usr/local/lib/python3.12/dist-packages/nltk/data.py\u001b[0m in \u001b[0;36mfind\u001b[0;34m(resource_name, paths)\u001b[0m\n\u001b[1;32m    578\u001b[0m     \u001b[0mresource_not_found\u001b[0m \u001b[0;34m=\u001b[0m \u001b[0;34mf\"\\n{sep}\\n{msg}\\n{sep}\\n\"\u001b[0m\u001b[0;34m\u001b[0m\u001b[0;34m\u001b[0m\u001b[0m\n\u001b[0;32m--> 579\u001b[0;31m     \u001b[0;32mraise\u001b[0m \u001b[0mLookupError\u001b[0m\u001b[0;34m(\u001b[0m\u001b[0mresource_not_found\u001b[0m\u001b[0;34m)\u001b[0m\u001b[0;34m\u001b[0m\u001b[0;34m\u001b[0m\u001b[0m\n\u001b[0m\u001b[1;32m    580\u001b[0m \u001b[0;34m\u001b[0m\u001b[0m\n",
            "\u001b[0;31mLookupError\u001b[0m: \n**********************************************************************\n  Resource \u001b[93mvader_lexicon\u001b[0m not found.\n  Please use the NLTK Downloader to obtain the resource:\n\n  \u001b[31m>>> import nltk\n  >>> nltk.download('vader_lexicon')\n  \u001b[0m\n  For more information see: https://www.nltk.org/data.html\n\n  Attempted to load \u001b[93msentiment/vader_lexicon.zip\u001b[0m\n\n  Searched in:\n    - '/root/nltk_data'\n    - '/usr/nltk_data'\n    - '/usr/share/nltk_data'\n    - '/usr/lib/nltk_data'\n    - '/usr/share/nltk_data'\n    - '/usr/local/share/nltk_data'\n    - '/usr/lib/nltk_data'\n    - '/usr/local/lib/nltk_data'\n**********************************************************************\n",
            "\nDuring handling of the above exception, another exception occurred:\n",
            "\u001b[0;31mAttributeError\u001b[0m                            Traceback (most recent call last)",
            "\u001b[0;32m/tmp/ipython-input-1747435890.py\u001b[0m in \u001b[0;36m<cell line: 0>\u001b[0;34m()\u001b[0m\n\u001b[1;32m      2\u001b[0m \u001b[0;32mtry\u001b[0m\u001b[0;34m:\u001b[0m\u001b[0;34m\u001b[0m\u001b[0;34m\u001b[0m\u001b[0m\n\u001b[1;32m      3\u001b[0m     \u001b[0mnltk\u001b[0m\u001b[0;34m.\u001b[0m\u001b[0mdata\u001b[0m\u001b[0;34m.\u001b[0m\u001b[0mfind\u001b[0m\u001b[0;34m(\u001b[0m\u001b[0;34m'sentiment/vader_lexicon.zip'\u001b[0m\u001b[0;34m)\u001b[0m\u001b[0;34m\u001b[0m\u001b[0;34m\u001b[0m\u001b[0m\n\u001b[0;32m----> 4\u001b[0;31m \u001b[0;32mexcept\u001b[0m \u001b[0mnltk\u001b[0m\u001b[0;34m.\u001b[0m\u001b[0mdownloader\u001b[0m\u001b[0;34m.\u001b[0m\u001b[0mDownloadError\u001b[0m\u001b[0;34m:\u001b[0m\u001b[0;34m\u001b[0m\u001b[0;34m\u001b[0m\u001b[0m\n\u001b[0m\u001b[1;32m      5\u001b[0m     \u001b[0mnltk\u001b[0m\u001b[0;34m.\u001b[0m\u001b[0mdownload\u001b[0m\u001b[0;34m(\u001b[0m\u001b[0;34m'vader_lexicon'\u001b[0m\u001b[0;34m)\u001b[0m\u001b[0;34m\u001b[0m\u001b[0;34m\u001b[0m\u001b[0m\n\u001b[1;32m      6\u001b[0m \u001b[0;32mfrom\u001b[0m \u001b[0mvaderSentiment\u001b[0m\u001b[0;34m.\u001b[0m\u001b[0mvaderSentiment\u001b[0m \u001b[0;32mimport\u001b[0m \u001b[0mSentimentIntensityAnalyzer\u001b[0m\u001b[0;34m\u001b[0m\u001b[0;34m\u001b[0m\u001b[0m\n",
            "\u001b[0;31mAttributeError\u001b[0m: module 'nltk.downloader' has no attribute 'DownloadError'"
          ]
        }
      ]
    },
    {
      "cell_type": "markdown",
      "metadata": {
        "id": "18080f09"
      },
      "source": [
        "**Reasoning**:\n",
        "The previous attempt failed because the NLTK `vader_lexicon` was not found and there was an `AttributeError`. The correct way to handle the download is to just call `nltk.download` if a `LookupError` occurs.\n",
        "\n"
      ]
    },
    {
      "cell_type": "code",
      "metadata": {
        "colab": {
          "base_uri": "https://localhost:8080/"
        },
        "id": "gnR6S6oSqj4N",
        "outputId": "c4ee89ec-a609-4400-f326-8f7de680d2df"
      },
      "source": [
        "import nltk\n",
        "from vaderSentiment.vaderSentiment import SentimentIntensityAnalyzer\n",
        "\n",
        "try:\n",
        "    nltk.data.find('sentiment/vader_lexicon.zip')\n",
        "except LookupError:\n",
        "    nltk.download('vader_lexicon')\n",
        "\n",
        "analyzer = SentimentIntensityAnalyzer()\n",
        "sentiment_results = {}\n",
        "\n",
        "qualitative_columns = ['Quais aspectos do seu aprendizado de idiomas você gostaria que fossem mais personalizados?',\n",
        "                       'Você gostaria de adicionar algum comentário ou sugestão sobre o uso de prompts e IAGen no aprendizado de idiomas?\\xa0']\n",
        "\n",
        "for col in qualitative_columns:\n",
        "    # Remove missing values\n",
        "    responses = df[col].dropna().tolist()\n",
        "    column_sentiments = []\n",
        "    for response in responses:\n",
        "        vs = analyzer.polarity_scores(response)\n",
        "        column_sentiments.append(vs)\n",
        "    sentiment_results[col] = column_sentiments\n",
        "\n",
        "# Summarize sentiment scores\n",
        "for col, sentiments in sentiment_results.items():\n",
        "    if sentiments:\n",
        "        compound_scores = [s['compound'] for s in sentiments]\n",
        "        mean_compound = sum(compound_scores) / len(compound_scores)\n",
        "        print(f\"Sentiment analysis summary for '{col}':\")\n",
        "        print(f\"  Mean compound score: {mean_compound:.2f}\")\n",
        "        # You can add more summary statistics here, like distribution of positive, negative, neutral\n",
        "    else:\n",
        "        print(f\"No valid responses for sentiment analysis in '{col}'\")"
      ],
      "execution_count": 12,
      "outputs": [
        {
          "output_type": "stream",
          "name": "stdout",
          "text": [
            "Sentiment analysis summary for 'Quais aspectos do seu aprendizado de idiomas você gostaria que fossem mais personalizados?':\n",
            "  Mean compound score: -0.03\n",
            "Sentiment analysis summary for 'Você gostaria de adicionar algum comentário ou sugestão sobre o uso de prompts e IAGen no aprendizado de idiomas? ':\n",
            "  Mean compound score: -0.03\n"
          ]
        }
      ]
    },
    {
      "cell_type": "code",
      "metadata": {
        "colab": {
          "base_uri": "https://localhost:8080/",
          "height": 627
        },
        "id": "156ffb3c",
        "outputId": "1d678211-7032-45f6-9f4c-05a1d47d2a57"
      },
      "source": [
        "import matplotlib.pyplot as plt\n",
        "import seaborn as sns\n",
        "\n",
        "# Prepare data for plotting\n",
        "sentiment_summary = {col: sum([s['compound'] for s in sentiments]) / len(sentiments)\n",
        "                     for col, sentiments in sentiment_results.items() if sentiments}\n",
        "\n",
        "columns = list(sentiment_summary.keys())\n",
        "mean_scores = list(sentiment_summary.values())\n",
        "\n",
        "plt.figure(figsize=(10, 6))\n",
        "# Use a horizontal bar plot for better readability of long labels\n",
        "sns.barplot(x=mean_scores, y=columns, orient='h')\n",
        "plt.xlabel('Média da Pontuação Composta de Sentimento')\n",
        "plt.title('Média da Pontuação de Sentimento para Respostas Abertas')\n",
        "plt.tight_layout()\n",
        "plt.show()"
      ],
      "execution_count": 14,
      "outputs": [
        {
          "output_type": "display_data",
          "data": {
            "text/plain": [
              "<Figure size 1000x600 with 1 Axes>"
            ],
            "image/png": "[encoded data removed]"
          },
          "metadata": {}
        }
      ]
    },
    {
      "cell_type": "markdown",
      "metadata": {
        "id": "9622f5c9"
      },
      "source": [
        "**Reasoning**:\n",
        "The previous attempt failed because the `vaderSentiment` library was not found. I need to install the library before importing and using it.\n",
        "\n"
      ]
    },
    {
      "cell_type": "code",
      "metadata": {
        "colab": {
          "base_uri": "https://localhost:8080/"
        },
        "id": "Q1twfA8xq2Oq",
        "outputId": "15a0fa70-4d0d-452d-9ac2-dd3035669fd7"
      },
      "source": [
        "!pip install vaderSentiment"
      ],
      "execution_count": 9,
      "outputs": [
        {
          "output_type": "stream",
          "name": "stdout",
          "text": [
            "Collecting vaderSentiment\n",
            "  Downloading vaderSentiment-3.3.2-py2.py3-none-any.whl.metadata (572 bytes)\n",
            "Requirement already satisfied: requests in /usr/local/lib/python3.12/dist-packages (from vaderSentiment) (2.32.4)\n",
            "Requirement already satisfied: charset_normalizer<4,>=2 in /usr/local/lib/python3.12/dist-packages (from requests->vaderSentiment) (3.4.3)\n",
            "Requirement already satisfied: idna<4,>=2.5 in /usr/local/lib/python3.12/dist-packages (from requests->vaderSentiment) (3.10)\n",
            "Requirement already satisfied: urllib3<3,>=1.21.1 in /usr/local/lib/python3.12/dist-packages (from requests->vaderSentiment) (2.5.0)\n",
            "Requirement already satisfied: certifi>=2017.4.17 in /usr/local/lib/python3.12/dist-packages (from requests->vaderSentiment) (2025.10.5)\n",
            "Downloading vaderSentiment-3.3.2-py2.py3-none-any.whl (125 kB)\n",
            "\u001b[?25l   \u001b[90m━━━━━━━━━━━━━━━━━━━━━━━━━━━━━━━━━━━━━━━━\u001b[0m \u001b[32m0.0/126.0 kB\u001b[0m \u001b[31m?\u001b[0m eta \u001b[36m-:--:--\u001b[0m\r\u001b[2K   \u001b[90m━━━━━━━━━━━━━━━━━━━━━━━━━━━━━━━━━━━━━━━━\u001b[0m \u001b[32m126.0/126.0 kB\u001b[0m \u001b[31m3.7 MB/s\u001b[0m eta \u001b[36m0:00:00\u001b[0m\n",
            "\u001b[?25hInstalling collected packages: vaderSentiment\n",
            "Successfully installed vaderSentiment-3.3.2\n"
          ]
        }
      ]
    },
    {
      "cell_type": "markdown",
      "metadata": {
        "id": "0a9704ed"
      },
      "source": [
        "**Reasoning**:\n",
        "The `vaderSentiment` library has been installed. Now I can proceed with importing the necessary libraries, downloading the NLTK vader_lexicon, performing sentiment analysis on the specified qualitative columns, removing missing values, calculating sentiment scores for each response, and printing a summary of the average compound sentiment score for each column, as originally planned.\n",
        "\n"
      ]
    },
    {
      "cell_type": "code",
      "metadata": {
        "colab": {
          "base_uri": "https://localhost:8080/"
        },
        "id": "aeaf9e19",
        "outputId": "777642ed-a617-4619-916e-493256714abf"
      },
      "source": [
        "import nltk\n",
        "from vaderSentiment.vaderSentiment import SentimentIntensityAnalyzer\n",
        "\n",
        "try:\n",
        "    nltk.data.find('sentiment/vader_lexicon.zip')\n",
        "except LookupError:\n",
        "    nltk.download('vader_lexicon')\n",
        "\n",
        "analyzer = SentimentIntensityAnalyzer()\n",
        "sentiment_results = {}\n",
        "\n",
        "qualitative_columns = ['Quais aspectos do seu aprendizado de idiomas você gostaria que fossem mais personalizados?',\n",
        "                       'Você gostaria de adicionar algum comentário ou sugestão sobre o uso de prompts e IAGen no aprendizado de idiomas?\\xa0']\n",
        "\n",
        "for col in qualitative_columns:\n",
        "    # Remove missing values\n",
        "    responses = df[col].dropna().tolist()\n",
        "    column_sentiments = []\n",
        "    for response in responses:\n",
        "        vs = analyzer.polarity_scores(response)\n",
        "        column_sentiments.append(vs)\n",
        "    sentiment_results[col] = column_sentiments\n",
        "\n",
        "# Summarize sentiment scores\n",
        "for col, sentiments in sentiment_results.items():\n",
        "    if sentiments:\n",
        "        compound_scores = [s['compound'] for s in sentiments]\n",
        "        mean_compound = sum(compound_scores) / len(compound_scores)\n",
        "        print(f\"Sentiment analysis summary for '{col}':\")\n",
        "        print(f\"  Mean compound score: {mean_compound:.2f}\")\n",
        "        # You can add more summary statistics here, like distribution of positive, negative, neutral\n",
        "    else:\n",
        "        print(f\"No valid responses for sentiment analysis in '{col}'\")"
      ],
      "execution_count": 15,
      "outputs": [
        {
          "output_type": "stream",
          "name": "stdout",
          "text": [
            "Sentiment analysis summary for 'Quais aspectos do seu aprendizado de idiomas você gostaria que fossem mais personalizados?':\n",
            "  Mean compound score: -0.03\n",
            "Sentiment analysis summary for 'Você gostaria de adicionar algum comentário ou sugestão sobre o uso de prompts e IAGen no aprendizado de idiomas? ':\n",
            "  Mean compound score: -0.03\n"
          ]
        }
      ]
    },
    {
      "cell_type": "markdown",
      "metadata": {
        "id": "d736859b"
      },
      "source": [
        "## Apresentar os resultados\n",
        "\n",
        "### Subtask:\n",
        "Exibir os gráficos gerados e os resultados da análise de sentimentos.\n"
      ]
    },
    {
      "cell_type": "markdown",
      "metadata": {
        "id": "fc412ad2"
      },
      "source": [
        "**Reasoning**:\n",
        "Display the previously generated plots and then print the sentiment analysis results by iterating through the `sentiment_results` dictionary and printing the column names and their corresponding mean compound scores.\n",
        "\n"
      ]
    },
    {
      "cell_type": "code",
      "metadata": {
        "colab": {
          "base_uri": "https://localhost:8080/"
        },
        "id": "b35cbb6e",
        "outputId": "f75fde70-aa32-497a-d843-438dd21358a8"
      },
      "source": [
        "# Display previously generated plots\n",
        "# These plots were generated in the \"Analisar e visualizar respostas quantitativas\" subtask\n",
        "# and should be automatically displayed in the notebook output.\n",
        "\n",
        "# Print sentiment analysis results\n",
        "for col, sentiments in sentiment_results.items():\n",
        "    if sentiments:\n",
        "        compound_scores = [s['compound'] for s in sentiments]\n",
        "        mean_compound = sum(compound_scores) / len(compound_scores)\n",
        "        print(f\"Sentiment analysis summary for '{col}':\")\n",
        "        print(f\"  Mean compound score: {mean_compound:.2f}\")\n",
        "    else:\n",
        "        print(f\"No valid responses for sentiment analysis in '{col}'\")"
      ],
      "execution_count": 16,
      "outputs": [
        {
          "output_type": "stream",
          "name": "stdout",
          "text": [
            "Sentiment analysis summary for 'Quais aspectos do seu aprendizado de idiomas você gostaria que fossem mais personalizados?':\n",
            "  Mean compound score: -0.03\n",
            "Sentiment analysis summary for 'Você gostaria de adicionar algum comentário ou sugestão sobre o uso de prompts e IAGen no aprendizado de idiomas? ':\n",
            "  Mean compound score: -0.03\n"
          ]
        }
      ]
    },
    {
      "cell_type": "markdown",
      "metadata": {
        "id": "9e518002"
      },
      "source": [
        "## Summary:\n",
        "\n",
        "### Data Analysis Key Findings\n",
        "\n",
        "*   The dataset contains 37 columns with a mix of data types, including numerical (age, satisfaction, importance, personalization level) and text-based (responses to open-ended questions, demographic information).\n",
        "*   Quantitative analysis revealed the distribution of ages among respondents and the frequency of responses to questions related to satisfaction with prompts, importance of personalized learning, and the perceived level of personalization in the language course.\n",
        "*   Sentiment analysis on the open-ended questions regarding aspects of learning that respondents would like to be more personalized and general comments/suggestions about using prompts and IAGen showed a slightly negative overall sentiment, with a mean compound score of -0.03 for both questions.\n",
        "\n",
        "### Insights or Next Steps\n",
        "\n",
        "*   Further investigation into the specific content of the open-ended responses with slightly negative sentiment is needed to identify common themes and areas for improvement in the use of IAGen and prompts for personalized language learning.\n",
        "*   Explore the relationship between the quantitative responses (e.g., satisfaction level, perceived personalization) and the sentiment expressed in the open-ended feedback to gain deeper insights into user experience.\n"
      ]
    }
  ]
}